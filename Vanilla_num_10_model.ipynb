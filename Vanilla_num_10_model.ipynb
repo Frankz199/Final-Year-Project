{
  "cells": [
    {
      "cell_type": "markdown",
      "metadata": {
        "id": "view-in-github",
        "colab_type": "text"
      },
      "source": [
        "<a href=\"https://colab.research.google.com/github/Frankz199/Final-Year-Project/blob/main/Vanilla_num_10_model.ipynb\" target=\"_parent\"><img src=\"https://colab.research.google.com/assets/colab-badge.svg\" alt=\"Open In Colab\"/></a>"
      ]
    },
    {
      "cell_type": "code",
      "execution_count": null,
      "metadata": {
        "colab": {
          "base_uri": "https://localhost:8080/"
        },
        "id": "rD8wNIq5Y1sW",
        "outputId": "8cb57602-3c1d-4fca-eb00-a4b84e1ba2af"
      },
      "outputs": [
        {
          "name": "stdout",
          "output_type": "stream",
          "text": [
            "/content/drive/MyDrive/colab/Results\n"
          ]
        }
      ],
      "source": [
        "%cd /content/drive/MyDrive/colab/Results"
      ]
    },
    {
      "cell_type": "code",
      "execution_count": null,
      "metadata": {
        "id": "k_eSnsEUY0ql"
      },
      "outputs": [],
      "source": [
        "#!pip install syft==0.2.6"
      ]
    },
    {
      "cell_type": "code",
      "execution_count": null,
      "metadata": {
        "colab": {
          "base_uri": "https://localhost:8080/"
        },
        "id": "mSqoofzUYbkS",
        "outputId": "4140e3c3-62d3-42e5-ae9c-bb4cb84dde67"
      },
      "outputs": [
        {
          "name": "stderr",
          "output_type": "stream",
          "text": [
            "WARNING:root:Torch was already hooked... skipping hooking process\n"
          ]
        }
      ],
      "source": [
        "import torch\n",
        "import torch.nn as nn\n",
        "import torch.nn.functional as F\n",
        "import torch.optim as optim\n",
        "from torchvision import datasets, transforms\n",
        "import logging\n",
        "import csv\n",
        "\n",
        "# import Pysyft to help us to simulate federated leraning\n",
        "import syft as sy\n",
        "\n",
        "# hook PyTorch to PySyft i.e. add extra functionalities to support Federated Learning\n",
        "# and other private AI tools\n",
        "hook = sy.TorchHook(torch)"
      ]
    },
    {
      "cell_type": "code",
      "execution_count": null,
      "metadata": {
        "id": "Fx-tSa1besu0"
      },
      "outputs": [],
      "source": [
        "# Create clients in a dictionary so we can call upon them easier.\n",
        "clients = dict()\n",
        "\n",
        "for i in range(10):\n",
        "  clients[i] = sy.VirtualWorker(hook,id=F\"client_{i}\")"
      ]
    },
    {
      "cell_type": "code",
      "execution_count": null,
      "metadata": {
        "id": "JfIsGCieYfSD"
      },
      "outputs": [],
      "source": [
        "# define the args\n",
        "args = {\n",
        "    'use_cuda' : True,\n",
        "    'batch_size' : 64,\n",
        "    'test_batch_size' : 1000,\n",
        "    'lr' : 0.01,\n",
        "    'log_interval' : 100,\n",
        "    'epochs' : 5\n",
        "}\n",
        "\n",
        "# check to use GPU or not\n",
        "use_cuda = args['use_cuda'] and torch.cuda.is_available()\n",
        "device = torch.device(\"cuda\" if use_cuda else \"cpu\")"
      ]
    },
    {
      "cell_type": "code",
      "execution_count": null,
      "metadata": {
        "id": "odKWhTFfYgL1"
      },
      "outputs": [],
      "source": [
        "# create a simple CNN net\n",
        "class Net(nn.Module):\n",
        "    \n",
        "    def __init__(self):\n",
        "        super(Net, self).__init__()\n",
        "        \n",
        "        self.conv = nn.Sequential(\n",
        "            nn.Conv2d(in_channels = 1, out_channels = 32, kernel_size = 3, stride = 1),\n",
        "            nn.ReLU(),\n",
        "            nn.Conv2d(in_channels=32,out_channels = 64, kernel_size = 3, stride = 1),\n",
        "            nn.ReLU()\n",
        "        )\n",
        "        \n",
        "        self.fc = nn.Sequential(\n",
        "            nn.Linear(in_features=64*12*12, out_features=128),\n",
        "            nn.ReLU(),\n",
        "            nn.Linear(in_features=128, out_features=10),\n",
        "        )\n",
        "    \n",
        "    def forward(self, x):\n",
        "        x = self.conv(x)\n",
        "        x = F.max_pool2d(x,2)\n",
        "        x = x.view(-1, 64*12*12)\n",
        "        x = self.fc(x)\n",
        "        x = F.log_softmax(x, dim=1)\n",
        "        return x"
      ]
    },
    {
      "cell_type": "code",
      "execution_count": null,
      "metadata": {
        "id": "xKI1OejGYlIs"
      },
      "outputs": [],
      "source": [
        "federated_train_loader = sy.FederatedDataLoader(\n",
        "    datasets.MNIST('../data', train=True, download=True,\n",
        "                   transform=transforms.Compose([\n",
        "                       transforms.ToTensor(),\n",
        "                       transforms.Normalize((0.1307,), (0.3081,))\n",
        "                   ]))\n",
        "    .federate(list(clients.values())),\n",
        "    batch_size=args['batch_size'], shuffle=True)\n",
        "\n",
        "test_loader = torch.utils.data.DataLoader(\n",
        "        datasets.MNIST('../data', train=False, transform=transforms.Compose([\n",
        "                           transforms.ToTensor(),\n",
        "                           transforms.Normalize((0.1307,), (0.3081,))\n",
        "                       ])),\n",
        "        batch_size=args['test_batch_size'], shuffle=True)"
      ]
    },
    {
      "cell_type": "code",
      "execution_count": null,
      "metadata": {
        "colab": {
          "base_uri": "https://localhost:8080/"
        },
        "id": "va3mwUNDYoPz",
        "outputId": "a30b3d27-49c2-4a59-9dfb-a0c664cc95b6"
      },
      "outputs": [
        {
          "name": "stdout",
          "output_type": "stream",
          "text": [
            "(Wrapper)>[PointerTensor | me:1848597474 -> client_0:2370621865]\n",
            "(Wrapper)>[PointerTensor | me:81687162738 -> client_0:76161853800]\n",
            "64\n",
            "64\n"
          ]
        }
      ],
      "source": [
        "# we can look at the data, it is actually pointer tensors\n",
        "for images,labels in federated_train_loader:\n",
        "    print(images) # batch of images pointers\n",
        "    print(labels) # batch of image labels pointers\n",
        "    \n",
        "    print(len(images)) # len function works on pointers as well\n",
        "    print(len(labels)) # we can see both are same, no of images as well as their labels\n",
        "    break\n",
        "\n"
      ]
    },
    {
      "cell_type": "code",
      "execution_count": null,
      "metadata": {
        "id": "gFUN4cwOYrUZ"
      },
      "outputs": [],
      "source": [
        "def train(args, model, device, train_loader, optimizer, epoch):\n",
        "    model.train()\n",
        "\n",
        "    individual_loss = []\n",
        "    individual_acc = []\n",
        "    individual_weight = []\n",
        "    x = 0\n",
        "\n",
        "    with open('Vanilla-num-ten.csv', 'a', newline='') as csvfile:\n",
        "\n",
        "      fieldnames = ['individual_loss', 'individual_acc', 'individual_weight', 'x', 'data.location.id', 'y']\n",
        "\n",
        "      thewriter = csv.DictWriter(csvfile, fieldnames=fieldnames)\n",
        "\n",
        "      thewriter.writeheader()\n",
        "\n",
        "    # iterate over federated data\n",
        "      for batch_idx, (data, target) in enumerate(train_loader):\n",
        "          x += 1\n",
        "\n",
        "          does_it_pass_the_decision_tree = FrancescoCode(model,data,individual_acc,individual_loss,individual_weight)\n",
        "\n",
        "          if does_it_pass_the_decision_tree:      \n",
        "              # send the model to the remote location\n",
        "              model = model.send(data.location)\n",
        "\n",
        "        \n",
        "            # the same torch code that we are use to\n",
        "              data, target = data.to(device), target.to(device)\n",
        "            \n",
        "              optimizer.zero_grad()\n",
        "            \n",
        "              output = model(data)\n",
        "      \n",
        "            # this loss is a ptr to the tensor loss \n",
        "            # at the remote location\n",
        "              loss = F.nll_loss(output, target)\n",
        "            \n",
        "        \n",
        "            # call backward() on the loss ptr,\n",
        "            # that will send the command to call\n",
        "            # backward on the actual loss tensor\n",
        "            # present on the remote machine\n",
        "              loss.backward()\n",
        "              optimizer.step()\n",
        "              model.get()\n",
        "\n",
        "          if batch_idx % args['log_interval'] == 0:\n",
        "\n",
        "              # a thing to note is the variable loss was\n",
        "              # also created at remote worker, so we need to\n",
        "              # explicitly get it back\n",
        "              loss = loss.get()\n",
        "\n",
        "              print('Train Epoch: {} [{}/{} ({:.0f}%)]\\tLoss: {:.6f}'.format(\n",
        "                      epoch, \n",
        "                      batch_idx * args['batch_size'], # no of images done\n",
        "                      len(train_loader) * args['batch_size'], # total images left\n",
        "                      100. * batch_idx / len(train_loader), \n",
        "                      loss.item()\n",
        "                  )\n",
        "              )\n",
        "        \n",
        "          thewriter.writerow({'individual_loss': individual_loss, 'individual_acc': individual_acc, 'individual_weight': individual_weight, 'x': x, 'data.location.id': data.location.id, 'y': y})"
      ]
    },
    {
      "cell_type": "code",
      "execution_count": null,
      "metadata": {
        "id": "GggVoSLPYsUW"
      },
      "outputs": [],
      "source": [
        "def test(model, device, test_loader):\n",
        "    model.eval()\n",
        "    test_loss = 0\n",
        "    correct = 0\n",
        "    with torch.no_grad():\n",
        "        for data, target in test_loader:\n",
        "            data, target = data.to(device), target.to(device)\n",
        "            output = model(data)\n",
        "            # add losses together\n",
        "            test_loss += F.nll_loss(output, target, reduction='sum').item() \n",
        "\n",
        "            # get the index of the max probability class\n",
        "            pred = output.argmax(dim=1, keepdim=True)  \n",
        "            correct += pred.eq(target.view_as(pred)).sum().item()\n",
        "\n",
        "    test_loss /= len(test_loader.dataset)\n",
        "\n",
        "    return (100. * correct / len(test_loader.dataset), test_loss)"
      ]
    },
    {
      "cell_type": "code",
      "execution_count": null,
      "metadata": {
        "id": "6c0Bfs1faPWp"
      },
      "outputs": [],
      "source": [
        "def FrancescoCode(model,data,individual_acc,individual_loss,individual_weight):\n",
        "  #Get the client ID of the Model that is being Sent\n",
        "  print(F\"Model ID: {data.location.id}\")\n",
        "  individual_weight.clear()\n",
        "  individual_acc.clear()\n",
        "  individual_loss.clear()\n",
        "\n",
        "  latest_model = []\n",
        "\n",
        "  # # #Iterate over the model layers to obtain the weights and biases\n",
        "  # # # Here compare the weights of the previous model and the current model\n",
        "  for layer in model.parameters():\n",
        "    latest_model.append(layer.detach().clone())\n",
        "    #print(layer)\n",
        "  \n",
        "\n",
        "  flatten_weight = torch.flatten(latest_model[6])\n",
        "  average_weight = torch.mean(flatten_weight)\n",
        "  individual_weight.append(average_weight)\n",
        "\n",
        "\n",
        "  # Get accuracy of the model before training ( Might want to reduce the size so its faster )\n",
        "  accuracy, loss = test(model,device,test_loader)\n",
        "\n",
        "  individual_acc.append(accuracy)\n",
        "  individual_loss.append(loss)\n",
        "  \n",
        "  return True"
      ]
    },
    {
      "cell_type": "code",
      "execution_count": null,
      "metadata": {
        "colab": {
          "background_save": true
        },
        "id": "ltN_jv71YwUI"
      },
      "outputs": [],
      "source": [
        "model = Net().to(device)\n",
        "optimizer = optim.SGD(model.parameters(), lr=args['lr'])\n",
        "\n",
        "logging.info(\"Starting training !!\")\n",
        "\n",
        "for epoch in range(1, args['epochs'] + 1):\n",
        "        train(args, model, device, federated_train_loader, optimizer, epoch)\n",
        "        test(model, device, test_loader)\n"
      ]
    }
  ],
  "metadata": {
    "colab": {
      "name": "Vanilla_num_10_model.ipynb",
      "provenance": [],
      "collapsed_sections": [],
      "mount_file_id": "13160dFBgS8Q_njoycAkPrx7iFLND2zpX",
      "authorship_tag": "ABX9TyOHoPBcLMMQQvb88c82slUJ",
      "include_colab_link": true
    },
    "kernelspec": {
      "display_name": "Python 3",
      "name": "python3"
    },
    "language_info": {
      "name": "python"
    }
  },
  "nbformat": 4,
  "nbformat_minor": 0
}